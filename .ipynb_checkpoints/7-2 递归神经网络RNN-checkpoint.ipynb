{
 "cells": [
  {
   "cell_type": "code",
   "execution_count": 1,
   "metadata": {},
   "outputs": [],
   "source": [
    "import tensorflow as tf\n",
    "from tensorflow.examples.tutorials.mnist import input_data"
   ]
  },
  {
   "cell_type": "code",
   "execution_count": null,
   "metadata": {},
   "outputs": [],
   "source": [
    "#载入数据集\n",
    "mnist = input_data.read_data_sets(\"MNIST_data/\",one_hot=True)\n",
    "\n",
    "# 输入图片是28*28\n",
    "n_inputs = 28 # 输入一行，一行有28个数据\n",
    "max_time = 28 # 一共28行\n",
    "lstm_size = 100 # 隐层单元\n",
    "n_classes = 10 # 10个分类\n",
    "batch_size = 50 # 每批次50个样本\n",
    "n_batch = mnist.train.num_examples // batch_size # 计算一共有多少个批次\n",
    "\n",
    "# 这里的none表示第一个维度可以是任意的长度\n",
    "x = tf.placeholder(tf.float32, [None, 784])\n",
    "# 正确的标签\n",
    "y = tf.placeholder(tf.float32, [None, 10])\n",
    "\n",
    "# 初始化权值\n",
    "weights = tf.Variable(tf.truncated_normal([lstm_size, n_classes], stddev=0.1))\n",
    "# 初始化偏置值\n",
    "biases = tf.Variable(tf.constant(0.1, shape=[n_classes]))\n",
    "\n",
    "# 定义RNN网络\n",
    "def RNN"
   ]
  }
 ],
 "metadata": {
  "kernelspec": {
   "display_name": "Python 3",
   "language": "python",
   "name": "python3"
  },
  "language_info": {
   "codemirror_mode": {
    "name": "ipython",
    "version": 3
   },
   "file_extension": ".py",
   "mimetype": "text/x-python",
   "name": "python",
   "nbconvert_exporter": "python",
   "pygments_lexer": "ipython3",
   "version": "3.6.4"
  }
 },
 "nbformat": 4,
 "nbformat_minor": 2
}
